{
  "nbformat": 4,
  "nbformat_minor": 0,
  "metadata": {
    "colab": {
      "provenance": [],
      "authorship_tag": "ABX9TyOJviH9nWwyJrEQ8ZUSfnZa",
      "include_colab_link": true
    },
    "kernelspec": {
      "name": "python3",
      "display_name": "Python 3"
    },
    "language_info": {
      "name": "python"
    }
  },
  "cells": [
    {
      "cell_type": "markdown",
      "metadata": {
        "id": "view-in-github",
        "colab_type": "text"
      },
      "source": [
        "<a href=\"https://colab.research.google.com/github/navinranjan7/Practice_DSA/blob/main/DSA_Fibonacci_Number.ipynb\" target=\"_parent\"><img src=\"https://colab.research.google.com/assets/colab-badge.svg\" alt=\"Open In Colab\"/></a>"
      ]
    },
    {
      "cell_type": "code",
      "execution_count": 2,
      "metadata": {
        "colab": {
          "base_uri": "https://localhost:8080/"
        },
        "id": "3UcNf1ltW4_S",
        "outputId": "076fd37f-5672-4805-df32-8161252971ef"
      },
      "outputs": [
        {
          "output_type": "stream",
          "name": "stdout",
          "text": [
            "[0, 1, 1, 2, 3, 5, 8, 13, 21, 34, 55, 89, 144, 233, 377, 610, 987, 1597, 2584, 4181, 6765, 10946]\n"
          ]
        }
      ],
      "source": [
        "a = 0\n",
        "b = 1\n",
        "fib = [a, b]\n",
        "for n in range(18):\n",
        "  c = a + b\n",
        "  a = b\n",
        "  b = c\n",
        "  fib.append(c)\n",
        "print(fib)\n"
      ]
    },
    {
      "cell_type": "code",
      "source": [
        "a = 0\n",
        "b= 1\n",
        "count = 2\n",
        "fib_list=[a, b]\n",
        "def fib(a, b):\n",
        "  global count\n",
        "  print(count)\n",
        "  if count <= 21:\n",
        "    c = a + b\n",
        "    a = b\n",
        "    b = c\n",
        "    fib_list.append(c)\n",
        "    count += 1\n",
        "    fib(a,b)\n",
        "  return fib_list\n",
        "fib_list = fib(a, b)\n",
        "print(fib_list)\n"
      ],
      "metadata": {
        "colab": {
          "base_uri": "https://localhost:8080/"
        },
        "id": "yzygcrPZYO5c",
        "outputId": "4a7e8a3a-45dc-4c7b-c9fe-c126d1eedeba"
      },
      "execution_count": 9,
      "outputs": [
        {
          "output_type": "stream",
          "name": "stdout",
          "text": [
            "2\n",
            "3\n",
            "4\n",
            "5\n",
            "6\n",
            "7\n",
            "8\n",
            "9\n",
            "10\n",
            "11\n",
            "12\n",
            "13\n",
            "14\n",
            "15\n",
            "16\n",
            "17\n",
            "18\n",
            "19\n",
            "20\n",
            "21\n",
            "22\n",
            "[0, 1, 1, 2, 3, 5, 8, 13, 21, 34, 55, 89, 144, 233, 377, 610, 987, 1597, 2584, 4181, 6765, 10946]\n"
          ]
        }
      ]
    },
    {
      "cell_type": "code",
      "source": [
        "#find nth Fibonacci Number\n",
        "\n",
        "def F(n):\n",
        "  if n <=1:\n",
        "    return n\n",
        "  else:\n",
        "    x = F(n-1) + F(n-2)\n",
        "    return x\n",
        "print(F(5))"
      ],
      "metadata": {
        "colab": {
          "base_uri": "https://localhost:8080/"
        },
        "id": "0Tjqbq5vabdg",
        "outputId": "e9e4f5ee-d751-4aa0-9ded-fed42c7b64cb"
      },
      "execution_count": 15,
      "outputs": [
        {
          "output_type": "stream",
          "name": "stdout",
          "text": [
            "5\n"
          ]
        }
      ]
    }
  ]
}